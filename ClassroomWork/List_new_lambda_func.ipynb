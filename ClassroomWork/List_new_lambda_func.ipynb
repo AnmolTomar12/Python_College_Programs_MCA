{
 "cells": [
  {
   "cell_type": "code",
   "execution_count": 1,
   "id": "71a1ed28-b72e-4003-adda-61e8f979d401",
   "metadata": {},
   "outputs": [
    {
     "name": "stdout",
     "output_type": "stream",
     "text": [
      "[1]\n",
      "[1, 1]\n",
      "[1, 1, 1]\n",
      "[1, 1, 1, 1]\n",
      "[1, 1, 1, 1, 1]\n"
     ]
    }
   ],
   "source": [
    "square = []\n",
    "for i in range(10):\n",
    "    if i % 2 == 0:\n",
    "        square.append(1 ** 2)\n",
    "        print(square)"
   ]
  },
  {
   "cell_type": "code",
   "execution_count": 5,
   "id": "a35a0789-f9c0-4244-adeb-92ea3d92522d",
   "metadata": {},
   "outputs": [
    {
     "name": "stdout",
     "output_type": "stream",
     "text": [
      "[1, 4, 9, 16, 25]\n"
     ]
    }
   ],
   "source": [
    "numbers = [1, 2, 3, 4, 5]\n",
    "squared = map(lambda x: x * x, numbers)\n",
    "print(list(squared))"
   ]
  },
  {
   "cell_type": "code",
   "execution_count": 7,
   "id": "1516c790-d92e-4599-8acc-d070071deada",
   "metadata": {},
   "outputs": [
    {
     "name": "stdout",
     "output_type": "stream",
     "text": [
      "[2, 4]\n"
     ]
    }
   ],
   "source": [
    "even_numbers = filter(lambda x: x % 2 == 0, numbers)\n",
    "print(list(even_numbers))"
   ]
  },
  {
   "cell_type": "code",
   "execution_count": 12,
   "id": "dc2b2650-44ac-4898-9f6f-ba0bbe4d3802",
   "metadata": {},
   "outputs": [
    {
     "name": "stdout",
     "output_type": "stream",
     "text": [
      "[1, 9, 25, 49, 121, 169, 289, 361]\n"
     ]
    }
   ],
   "source": [
    "numbers = [1, 3, 5, 7, 11, 13, 17, 19 ]\n",
    "squared = map(lambda x: x * x, numbers)\n",
    "print(list(squared))"
   ]
  }
 ],
 "metadata": {
  "kernelspec": {
   "display_name": "anaconda-2024.02-py310",
   "language": "python",
   "name": "conda-env-anaconda-2024.02-py310-py"
  },
  "language_info": {
   "codemirror_mode": {
    "name": "ipython",
    "version": 3
   },
   "file_extension": ".py",
   "mimetype": "text/x-python",
   "name": "python",
   "nbconvert_exporter": "python",
   "pygments_lexer": "ipython3",
   "version": "3.10.14"
  }
 },
 "nbformat": 4,
 "nbformat_minor": 5
}
