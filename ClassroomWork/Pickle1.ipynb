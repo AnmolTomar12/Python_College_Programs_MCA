{
 "cells": [
  {
   "cell_type": "code",
   "execution_count": 1,
   "id": "900351f0-cda7-49a6-82a0-5fd3848ecc05",
   "metadata": {},
   "outputs": [
    {
     "name": "stdout",
     "output_type": "stream",
     "text": [
      "Data has been saved to 'data.pkl'\n"
     ]
    }
   ],
   "source": [
    "import pickle\n",
    "\n",
    "# Sample data: list of items\n",
    "my_list = ['apple', 'banana', 'cherry']\n",
    "my_dict = {'fruits': my_list}\n",
    "\n",
    "# Save the dictionary to a file using pickle\n",
    "with open('data.pkl', 'wb') as file:\n",
    "    pickle.dump(my_dict, file)\n",
    "\n",
    "print(\"Data has been saved to 'data.pkl'\")"
   ]
  }
 ],
 "metadata": {
  "kernelspec": {
   "display_name": "anaconda-2024.02-py310",
   "language": "python",
   "name": "conda-env-anaconda-2024.02-py310-py"
  },
  "language_info": {
   "codemirror_mode": {
    "name": "ipython",
    "version": 3
   },
   "file_extension": ".py",
   "mimetype": "text/x-python",
   "name": "python",
   "nbconvert_exporter": "python",
   "pygments_lexer": "ipython3",
   "version": "3.10.14"
  }
 },
 "nbformat": 4,
 "nbformat_minor": 5
}
