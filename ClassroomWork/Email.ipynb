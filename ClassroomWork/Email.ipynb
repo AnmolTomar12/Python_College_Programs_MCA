{
 "cells": [
  {
   "cell_type": "code",
   "execution_count": 3,
   "id": "5510492e-130f-4490-925e-d40451f01746",
   "metadata": {},
   "outputs": [],
   "source": [
    "# write a program that takes a \n",
    "# list of sap ids and returns a list of email addresses\n",
    "list = [554, \"544\"]\n",
    "res = [\"534@upes.ac.in\", \"544@stu.upes.ac.in\"]\n",
    "\n",
    "# without using map, filter lambda or list comprehension\n",
    "# using map.filter, lambda without using list compreshension\n",
    "# using list comprehension"
   ]
  },
  {
   "cell_type": "code",
   "execution_count": 7,
   "id": "e686f8fa-42bf-4286-9f23-9ac434db1bd1",
   "metadata": {},
   "outputs": [
    {
     "name": "stdout",
     "output_type": "stream",
     "text": [
      "['590019134@stu.upes.ac.in', '590019135@stu.upes.ac.in', '590019136@stu.upes.ac.in']\n"
     ]
    }
   ],
   "source": [
    "def generate_email_addresses(sap_ids):\n",
    "    email_list = [] \n",
    "\n",
    "    domain = '@stu.upes.ac.in'\n",
    "\n",
    "    for sap_id in sap_ids:\n",
    "\n",
    "        email_address = sap_id + domain\n",
    "     \n",
    "        email_list.append(email_address)\n",
    "    \n",
    "    return email_list\n",
    "\n",
    "sap_ids = ['590019134', '590019135', '590019136']\n",
    "res = generate_email_addresses(sap_ids)\n",
    "print(res)"
   ]
  },
  {
   "cell_type": "code",
   "execution_count": null,
   "id": "61262cf2-7cee-41f0-a1b6-32625a882702",
   "metadata": {},
   "outputs": [],
   "source": [
    "#2 \n",
    "def id_to_email(id):\n",
    "    email = f\"{id}@stu.upes.ac.in\"\n",
    "    return email\n",
    "lambda id : \n",
    "\n",
    "sap_ids = [554, \"544\", \"234234\", 123123]\n",
    "res = list (map(lambda id: f\" {id}\"))"
   ]
  },
  {
   "cell_type": "code",
   "execution_count": 14,
   "id": "02c58120-cb87-42be-b8f9-56bdf6574c9f",
   "metadata": {},
   "outputs": [
    {
     "name": "stdout",
     "output_type": "stream",
     "text": [
      "['590019134', '590019135', '590019136']\n",
      "['590019134@stu.upes.ac.in', '590019135@stu.upes.ac.in', '590019136@stu.upes.ac.in']\n"
     ]
    }
   ],
   "source": [
    "#3 \n",
    "res = [f\"{id}@stu.upes.ac.in\" for id in sap_ids]\n",
    "\n",
    "print(sap_ids)\n",
    "print(res)"
   ]
  }
 ],
 "metadata": {
  "kernelspec": {
   "display_name": "anaconda-2024.02-py310",
   "language": "python",
   "name": "conda-env-anaconda-2024.02-py310-py"
  },
  "language_info": {
   "codemirror_mode": {
    "name": "ipython",
    "version": 3
   },
   "file_extension": ".py",
   "mimetype": "text/x-python",
   "name": "python",
   "nbconvert_exporter": "python",
   "pygments_lexer": "ipython3",
   "version": "3.10.14"
  }
 },
 "nbformat": 4,
 "nbformat_minor": 5
}
