{
 "cells": [
  {
   "cell_type": "code",
   "execution_count": 118,
   "id": "8bc3b0ef-761d-411b-9de9-6e44cbc11302",
   "metadata": {},
   "outputs": [
    {
     "name": "stdout",
     "output_type": "stream",
     "text": [
      "AnmolTomar\n",
      "<class 'str'>\n"
     ]
    }
   ],
   "source": [
    "a = \"Anmol\"\n",
    "b = \"Tomar\"\n",
    "print(a + b)\n",
    "print(type(a))"
   ]
  },
  {
   "cell_type": "code",
   "execution_count": 128,
   "id": "3a15d31d-8dbb-42a5-be64-ea825e9c13a3",
   "metadata": {},
   "outputs": [
    {
     "name": "stdout",
     "output_type": "stream",
     "text": [
      "yes\n",
      "<class 'int'>\n",
      "127635371639376\n",
      "127635371639408\n",
      "24\n",
      "127635371639760\n",
      "True\n",
      "127635371639376\n",
      "127635371639376\n",
      "True\n"
     ]
    }
   ],
   "source": [
    "a = 12\n",
    "b = 13\n",
    "d= a+b-1\n",
    "if a>10:\n",
    "    print (\"yes\")\n",
    "else:\n",
    "    print (\"No\")\n",
    "print(type(a))\n",
    "print(id(a))\n",
    "print(id(b))\n",
    "print(d)\n",
    "print(id(d))\n",
    "m = 12\n",
    "n = 12\n",
    "print (m==n)\n",
    "print(id(m))\n",
    "print(id(n))\n",
    "print (m is n)"
   ]
  },
  {
   "cell_type": "code",
   "execution_count": 48,
   "id": "3cde217e-d3a4-44d7-a0ba-d3e25abf5da8",
   "metadata": {},
   "outputs": [
    {
     "name": "stdout",
     "output_type": "stream",
     "text": [
      "\n",
      "*\n",
      "**\n",
      "***\n",
      "****\n",
      "*****\n",
      "******\n",
      "*******\n",
      "********\n",
      "*********\n"
     ]
    }
   ],
   "source": [
    "for i in range(0,10):\n",
    "    print (i*\"*\");"
   ]
  },
  {
   "cell_type": "code",
   "execution_count": 86,
   "id": "da517779-87d5-44ef-a12f-315a0ec9157a",
   "metadata": {},
   "outputs": [
    {
     "name": "stdout",
     "output_type": "stream",
     "text": [
      "*\n",
      "**\n",
      "***\n",
      "****\n",
      "*****\n",
      "******\n",
      "*******\n",
      "********\n",
      "*********\n",
      "**********\n",
      "10\n"
     ]
    }
   ],
   "source": [
    "i=0\n",
    "while(i<10):\n",
    "    i += 1\n",
    "    print(i*\"*\")\n",
    "    if (i>5):\n",
    "        continue\n",
    "print(i)"
   ]
  },
  {
   "cell_type": "code",
   "execution_count": 172,
   "id": "583ac7a3-c6ca-4361-8099-8505455341a8",
   "metadata": {},
   "outputs": [
    {
     "name": "stdout",
     "output_type": "stream",
     "text": [
      "<class 'str'>\n",
      "Hello! Python\n",
      "HELLO! PYTHON\n",
      "127634220001456\n",
      "127634221572976\n"
     ]
    }
   ],
   "source": [
    "message = \"Hello! Python\"\n",
    "print(type(message))\n",
    "print (message)\n",
    "m = message.upper()\n",
    "print(m)\n",
    "print (id(message))\n",
    "print (id(m))\n"
   ]
  },
  {
   "cell_type": "code",
   "execution_count": 176,
   "id": "a985d484-fd1e-447b-a6e4-f6ecaefa0222",
   "metadata": {},
   "outputs": [
    {
     "name": "stdout",
     "output_type": "stream",
     "text": [
      "9\n"
     ]
    }
   ],
   "source": [
    "def add(a,b):\n",
    "    c= a+b\n",
    "    return c\n",
    "\n",
    "print(add(6,3))"
   ]
  },
  {
   "cell_type": "code",
   "execution_count": 183,
   "id": "4fcaf14d-9300-4e5b-beb3-4f364525b3ff",
   "metadata": {},
   "outputs": [
    {
     "name": "stdout",
     "output_type": "stream",
     "text": [
      "[1]\n",
      "[1, 1]\n",
      "[1, 1, 1]\n",
      "[1, 1, 1, 1]\n",
      "[1, 1, 1, 1, 1]\n"
     ]
    }
   ],
   "source": [
    "square = []\n",
    "for i in range(10):\n",
    "    if i % 2 == 0:\n",
    "        square.append(1 ** 2)\n",
    "        print(square)"
   ]
  }
 ],
 "metadata": {
  "kernelspec": {
   "display_name": "anaconda-2024.02-py310",
   "language": "python",
   "name": "conda-env-anaconda-2024.02-py310-py"
  },
  "language_info": {
   "codemirror_mode": {
    "name": "ipython",
    "version": 3
   },
   "file_extension": ".py",
   "mimetype": "text/x-python",
   "name": "python",
   "nbconvert_exporter": "python",
   "pygments_lexer": "ipython3",
   "version": "3.10.14"
  }
 },
 "nbformat": 4,
 "nbformat_minor": 5
}
