{
 "cells": [
  {
   "cell_type": "code",
   "execution_count": 2,
   "id": "c5380d3e-a573-415d-8d2f-60ad77633459",
   "metadata": {},
   "outputs": [
    {
     "name": "stdout",
     "output_type": "stream",
     "text": [
      "Data loaded successfully!\n",
      "Fruits: ['apple', 'banana', 'cherry']\n"
     ]
    }
   ],
   "source": [
    "import pickle\n",
    "\n",
    "# Load the dictionary from the file\n",
    "with open('data.pkl', 'rb') as file:\n",
    "    loaded_dict = pickle.load(file)\n",
    "\n",
    "# Verify the received data\n",
    "if 'fruits' in loaded_dict:\n",
    "    print(\"Data loaded successfully!\")\n",
    "    print(\"Fruits:\", loaded_dict['fruits'])\n",
    "else:\n",
    "    print(\"Data verification failed!\")"
   ]
  }
 ],
 "metadata": {
  "kernelspec": {
   "display_name": "anaconda-2024.02-py310",
   "language": "python",
   "name": "conda-env-anaconda-2024.02-py310-py"
  },
  "language_info": {
   "codemirror_mode": {
    "name": "ipython",
    "version": 3
   },
   "file_extension": ".py",
   "mimetype": "text/x-python",
   "name": "python",
   "nbconvert_exporter": "python",
   "pygments_lexer": "ipython3",
   "version": "3.10.14"
  }
 },
 "nbformat": 4,
 "nbformat_minor": 5
}
