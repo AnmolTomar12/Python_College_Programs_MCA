{
 "cells": [
  {
   "cell_type": "code",
   "execution_count": 1,
   "id": "f4fc1dea-9185-470f-82ca-dd0adc272aa3",
   "metadata": {},
   "outputs": [
    {
     "name": "stdout",
     "output_type": "stream",
     "text": [
      "Hello, Anmol!\n",
      "Good Morning, Anmol Tomar!\n"
     ]
    }
   ],
   "source": [
    "# Concatination of the String\n",
    "def greet(name, greeting=\"Hello\"):\n",
    "    return f\"{greeting}, {name}!\"\n",
    "\n",
    "print(greet(\"Anmol\"))           \n",
    "print(greet(\"Anmol Tomar\", \"Good Morning\"))  "
   ]
  },
  {
   "cell_type": "code",
   "execution_count": 2,
   "id": "dba4e4e8-d7c5-47ef-8ce8-a195dcfb22ac",
   "metadata": {},
   "outputs": [
    {
     "name": "stdout",
     "output_type": "stream",
     "text": [
      "name : Anmol , city : Tomar, age : 21\n"
     ]
    }
   ],
   "source": [
    "def create_profile(name=\"Anmol\",city=\"Dehradun\",age=\"21\"):\n",
    "    return f\"name : {name} , city : {city}, age : {age}\"\n",
    "print(create_profile(\"Anmol\",\"Tomar\"))"
   ]
  },
  {
   "cell_type": "code",
   "execution_count": 3,
   "id": "79c28200-491f-440c-8a98-4e8daf2a4322",
   "metadata": {},
   "outputs": [
    {
     "name": "stdout",
     "output_type": "stream",
     "text": [
      "(14, {})\n",
      "(12, {})\n",
      "(3, {'x': 4, 'y': 5})\n"
     ]
    }
   ],
   "source": [
    "# Program to Sum of the Numbers.\n",
    "def sum_numbers(*args, **kwargs):\n",
    "    total_sum = sum(arg for arg in args if isinstance(arg, (int, float)))\n",
    "    \n",
    "    return total_sum, kwargs\n",
    "\n",
    "print(sum_numbers(5, 2, 7))  \n",
    "print(sum_numbers(3, 4, 5))  \n",
    "print(sum_numbers(1, 2, x=4, y=5)) "
   ]
  },
  {
   "cell_type": "code",
   "execution_count": 4,
   "id": "207c5b2f-2b0a-440c-a61b-817a2620baa6",
   "metadata": {},
   "outputs": [
    {
     "name": "stdout",
     "output_type": "stream",
     "text": [
      "[1, 4, 9, 16, 25, 36, 49, 64, 81]\n"
     ]
    }
   ],
   "source": [
    "# To Find the Square of the number.\n",
    "def square_list(lst):\n",
    "    return list(map(lambda x: x**2, lst))\n",
    "\n",
    "print(square_list([1, 2, 3, 4, 5, 6, 7, 8, 9]))"
   ]
  },
  {
   "cell_type": "code",
   "execution_count": 5,
   "id": "43e0d963-0c81-47a7-8b86-036a463dbd8d",
   "metadata": {},
   "outputs": [
    {
     "data": {
      "text/plain": [
       "[2, 4, 6]"
      ]
     },
     "execution_count": 5,
     "metadata": {},
     "output_type": "execute_result"
    }
   ],
   "source": [
    "# Program to find the Even Numbers.\n",
    "def filter_odd_numbers(lst):\n",
    "    return list(filter(lambda x:x%2==0,lst))\n",
    "\n",
    "filter_odd_numbers([1, 2, 3, 4, 5, 6, 7]) "
   ]
  },
  {
   "cell_type": "code",
   "execution_count": 4,
   "id": "4b751aa0-2e74-4623-9c88-40b3f9243dee",
   "metadata": {},
   "outputs": [
    {
     "name": "stdin",
     "output_type": "stream",
     "text": [
      "Enter Number: 10\n"
     ]
    },
    {
     "name": "stdout",
     "output_type": "stream",
     "text": [
      "[0, 1, 4, 9, 16, 25, 36, 49, 64, 81]\n"
     ]
    }
   ],
   "source": [
    "# Program to find the Square roots of N number\n",
    "a=int(input(\"Enter Number:\"))\n",
    "squares = [x**2 for x in range(a)]\n",
    "\n",
    "print(squares)"
   ]
  },
  {
   "cell_type": "code",
   "execution_count": 6,
   "id": "ff57c06d-96b3-4b0e-98d9-4996dcc18514",
   "metadata": {},
   "outputs": [
    {
     "name": "stdout",
     "output_type": "stream",
     "text": [
      "[2, 4, 6, 8, 10, 12, 14, 16, 18, 20, 22, 24, 26, 28, 30, 32, 34, 36, 38, 40, 42, 44, 46, 48]\n"
     ]
    }
   ],
   "source": [
    "# Program to find the even number in the range.\n",
    "Even=[x for x in range(1, 50) if x % 2 == 0]  \n",
    "print(Even)"
   ]
  },
  {
   "cell_type": "code",
   "execution_count": null,
   "id": "25b71bc3-6a14-4262-bb1c-5a71340c2404",
   "metadata": {},
   "outputs": [],
   "source": [
    "import os\n",
    "import time\n",
    "\n",
    "def file_operations():\n",
    "    folder_name = \"test_folder\"\n",
    "    \n",
    "    try:\n",
    "        os.makedirs(folder_name, exist_ok=True)\n",
    "        print(f\"Directory '{folder_name}' created.\")\n",
    "    except Exception as e:\n",
    "        print(f\"Error creating directory: {e}\")\n",
    "    \n",
    "    time.sleep(3)\n",
    "    \n",
    "    try:\n",
    "        os.rmdir(folder_name)\n",
    "        print(f\"Directory '{folder_name}' deleted.\")\n",
    "    except Exception as e:\n",
    "        print(f\"Error deleting directory: {e}\")\n",
    "\n",
    "if __name__ == \"__main__\":\n",
    "    file_operations()"
   ]
  },
  {
   "cell_type": "code",
   "execution_count": null,
   "id": "89789f2e-585b-472e-a197-2eb4ffc8765e",
   "metadata": {},
   "outputs": [],
   "source": [
    "from time import sleep as pause\n",
    "\n",
    "pause(2)\n",
    "\n",
    "print(\"Paused execution...\")"
   ]
  },
  {
   "cell_type": "code",
   "execution_count": null,
   "id": "bfdcf588-53ef-4b87-8d59-af7b0ab72ae0",
   "metadata": {},
   "outputs": [],
   "source": [
    "def flatten_list(nested_list, *args, **kwargs):\n",
    "    flat_list = []\n",
    "    \n",
    "    for item in nested_list:\n",
    "\n",
    "        if isinstance(item, list):\n",
    "            flat_list.extend(flatten_list(item))\n",
    "\n",
    "        else:\n",
    "            flat_list.append(item)\n",
    "    \n",
    "    return flat_list\n",
    "\n",
    "print(flatten_list([1, [2, 3], [[4, 5], 6]])) \n",
    "print(flatten_list([[1, 2], [3, [4, [5]]]]))  "
   ]
  },
  {
   "cell_type": "code",
   "execution_count": null,
   "id": "fb3b185d-92a2-4d55-9711-cc356d6c3044",
   "metadata": {},
   "outputs": [],
   "source": [
    "# Program to find the Square roots of N number\n",
    "a=int(input(\"Enter Number:\"))\n",
    "squares = [x**2 for x in range(a)]\n",
    "\n",
    "print(squares)"
   ]
  },
  {
   "cell_type": "code",
   "execution_count": 2,
   "id": "9a21287e-789b-4ae1-823a-2129847bf353",
   "metadata": {},
   "outputs": [
    {
     "name": "stdout",
     "output_type": "stream",
     "text": [
      "name : Anmol , city : Tomar, age : 21\n"
     ]
    }
   ],
   "source": [
    "def create_profile(name=\"Anmol\",city=\"Dehradun\",age=\"21\"):\n",
    "    return f\"name : {name} , city : {city}, age : {age}\"\n",
    "print(create_profile(\"Anmol\",\"Tomar\"))"
   ]
  },
  {
   "cell_type": "code",
   "execution_count": null,
   "id": "c9f9eef1-6bc3-408b-bf79-c24d78c01182",
   "metadata": {},
   "outputs": [],
   "source": []
  }
 ],
 "metadata": {
  "kernelspec": {
   "display_name": "anaconda-2024.02-py310",
   "language": "python",
   "name": "conda-env-anaconda-2024.02-py310-py"
  },
  "language_info": {
   "codemirror_mode": {
    "name": "ipython",
    "version": 3
   },
   "file_extension": ".py",
   "mimetype": "text/x-python",
   "name": "python",
   "nbconvert_exporter": "python",
   "pygments_lexer": "ipython3",
   "version": "3.10.14"
  }
 },
 "nbformat": 4,
 "nbformat_minor": 5
}
