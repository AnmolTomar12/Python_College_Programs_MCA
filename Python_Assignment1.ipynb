{
 "cells": [
  {
   "cell_type": "code",
   "execution_count": 7,
   "id": "f31236dc-f0b7-4836-9cfe-07cd5ea4fc9c",
   "metadata": {},
   "outputs": [
    {
     "name": "stdout",
     "output_type": "stream",
     "text": [
      "Anmol Tomar\n"
     ]
    }
   ],
   "source": [
    "print(\"Anmol Tomar\")"
   ]
  },
  {
   "cell_type": "code",
   "execution_count": 11,
   "id": "8b449943-9add-4099-b604-2444573c8340",
   "metadata": {},
   "outputs": [
    {
     "name": "stdout",
     "output_type": "stream",
     "text": [
      "Anmol Tomar\n"
     ]
    }
   ],
   "source": [
    "obj = \"Anmol Tomar\"\n",
    "print(obj)"
   ]
  },
  {
   "cell_type": "code",
   "execution_count": 15,
   "id": "ad7edf54-a67a-4d04-9c39-c49f43b35f82",
   "metadata": {},
   "outputs": [
    {
     "name": "stdout",
     "output_type": "stream",
     "text": [
      "HH\n",
      "ee\n",
      "ll\n",
      "ll\n",
      "oo\n"
     ]
    }
   ],
   "source": [
    "greet = 'Hello'\n",
    "\n",
    "# iterating through greet string\n",
    "for letter in greet:\n",
    "    print(letter + letter)"
   ]
  },
  {
   "cell_type": "code",
   "execution_count": 20,
   "id": "f267724e-a0ad-46cd-a507-0a119a5d8d95",
   "metadata": {},
   "outputs": [
    {
     "name": "stdin",
     "output_type": "stream",
     "text": [
      "Enter Your First Name\t: Anmol\n",
      "Enter Your Last Name\t: Tomar\n"
     ]
    },
    {
     "name": "stdout",
     "output_type": "stream",
     "text": [
      "lomnA ramoT\n"
     ]
    }
   ],
   "source": [
    "# Taking user input\n",
    "\n",
    "a = input(\"Enter Your First Name\\t:\")\n",
    "b = input(\"Enter Your Last Name\\t:\")\n",
    "\n",
    "\n",
    "# using reverse string operation to revese the string and print the reversed values\n",
    "\n",
    "print(a[::-1] , b[::-1])"
   ]
  },
  {
   "cell_type": "code",
   "execution_count": 22,
   "id": "c96c3094-2e55-4d89-a5e0-8c70d3b0c1f8",
   "metadata": {},
   "outputs": [
    {
     "name": "stdin",
     "output_type": "stream",
     "text": [
      "Enter the length of rectangle 5\n",
      "Enter the width of rectangle 4\n"
     ]
    },
    {
     "name": "stdout",
     "output_type": "stream",
     "text": [
      "20.0\n"
     ]
    }
   ],
   "source": [
    "# taking user input as l for length and w for width\n",
    "\n",
    "l = float(input(\"Enter the length of rectangle\"))\n",
    "w = float(input(\"Enter the width of rectangle\"))\n",
    "\n",
    "area = l*w\n",
    "\n",
    "print(f\"{area}\")"
   ]
  },
  {
   "cell_type": "code",
   "execution_count": 28,
   "id": "a7a28af5-fb86-4fe9-a64c-20af31873381",
   "metadata": {},
   "outputs": [
    {
     "name": "stdout",
     "output_type": "stream",
     "text": [
      "Anmol\n",
      "True\n"
     ]
    }
   ],
   "source": [
    "# capitalize()\tIt converts first letter to UpperCase\n",
    "\n",
    "print(a.capitalize())\n",
    "\n",
    "# endswith()\tReturns true if the string ends with the specified value\n",
    "\n",
    "print(b.endswith(\"r\"))"
   ]
  },
  {
   "cell_type": "code",
   "execution_count": 30,
   "id": "564d87f4-7ce4-468e-88d3-cbd1b8c9fff6",
   "metadata": {},
   "outputs": [
    {
     "name": "stdin",
     "output_type": "stream",
     "text": [
      "Enter the first no.\t:  33.6\n",
      "Enter the second no.\t:  12.4\n",
      "Enter the third no.\t:  67.0\n"
     ]
    },
    {
     "name": "stdout",
     "output_type": "stream",
     "text": [
      "The average of the three numbers is: 37.67\n"
     ]
    }
   ],
   "source": [
    "# To find the avarage of Three Numbers.\n",
    "num1 = float(input(\"Enter the first no.\\t: \"))\n",
    "num2 = float(input(\"Enter the second no.\\t: \"))\n",
    "num3 = float(input(\"Enter the third no.\\t: \"))\n",
    "\n",
    "avg = (num1 + num2 + num3) / 3\n",
    "\n",
    "print(\"The average of the three numbers is: %.2f\" % avg)"
   ]
  },
  {
   "cell_type": "code",
   "execution_count": 34,
   "id": "c6c2f577-c42c-4f1a-bc26-d2697223b9c2",
   "metadata": {},
   "outputs": [
    {
     "name": "stdin",
     "output_type": "stream",
     "text": [
      "Enter the number:  12\n"
     ]
    },
    {
     "name": "stdout",
     "output_type": "stream",
     "text": [
      "The Number is Postive\n"
     ]
    }
   ],
   "source": [
    "# taking user input \n",
    "\n",
    "num=int(input(\"Enter the number: \"))\n",
    "\n",
    "# using if else statement to determine number is positive, negative or zero\n",
    "# This code help to classified the numbers.\n",
    "\n",
    "if (num>0):print(\"The Number is Postive\")\n",
    "elif (num==0):print(\"The Number is Zero\")\n",
    "else: print(\"The Number is Negative\")"
   ]
  },
  {
   "cell_type": "code",
   "execution_count": 39,
   "id": "3fa8793a-2092-4a1d-9aef-f5145c46d139",
   "metadata": {},
   "outputs": [
    {
     "name": "stdin",
     "output_type": "stream",
     "text": [
      "Enter the first number:  12\n",
      "Enter the second number:  7\n"
     ]
    },
    {
     "name": "stdout",
     "output_type": "stream",
     "text": [
      "One number is even, and the other is odd.\n"
     ]
    }
   ],
   "source": [
    "# Taking two numbers as input from the user\n",
    "\n",
    "num1 = int(input(\"Enter the first number: \"))\n",
    "num2 = int(input(\"Enter the second number: \"))\n",
    "\n",
    "# Checking if both numbers are even\n",
    "\n",
    "# used modulas and equality to operators to determine numbers as even or odd\n",
    "\n",
    "if num1 % 2 == 0 and num2 % 2 == 0:\n",
    "    \n",
    "    print(\"Both numbers are even.\")\n",
    "    \n",
    "    \n",
    "# Checking if both numbers are odd\n",
    "\n",
    "# used modulas and not equal to operators to determine numbers as even or odd\n",
    "\n",
    "elif num1 % 2 != 0 and num2 % 2 != 0: \n",
    "    \n",
    "    print(\"Both numbers are odd.\")\n",
    "    \n",
    " \n",
    "# If one is even and the other is odd\n",
    "else: print(\"One number is even, and the other is odd.\")"
   ]
  },
  {
   "cell_type": "code",
   "execution_count": 37,
   "id": "7296da5c-1d6f-4898-bfdf-3cf42a09a095",
   "metadata": {},
   "outputs": [
    {
     "name": "stdin",
     "output_type": "stream",
     "text": [
      "Enter a number or use 'exit' to break the loop:  23\n",
      "Enter a number or use 'exit' to break the loop:  42\n",
      "Enter a number or use 'exit' to break the loop:  51\n",
      "Enter a number or use 'exit' to break the loop:  12\n",
      "Enter a number or use 'exit' to break the loop:  exit\n"
     ]
    }
   ],
   "source": [
    "while True:  \n",
    "    \n",
    "    # Creating a while loop with condition True\n",
    "     \n",
    "    # taking user input\n",
    "    \n",
    "    a = input(\"Enter a number or use 'exit' to break the loop: \")\n",
    "    \n",
    "    \n",
    "    # conditional statements to break the loop if \"exit\" is entered else the loop continues\n",
    "    \n",
    "    if a == \"exit\":\n",
    "        break        \n",
    "    else:\n",
    "        continue"
   ]
  },
  {
   "cell_type": "code",
   "execution_count": 41,
   "id": "4ba1fd9f-2c24-43f6-b886-ecb97a115c29",
   "metadata": {},
   "outputs": [
    {
     "name": "stdin",
     "output_type": "stream",
     "text": [
      "Enter an integer:  13\n"
     ]
    },
    {
     "name": "stdout",
     "output_type": "stream",
     "text": [
      "Binary: 1101\n",
      "Octal: 15\n",
      "Hexadecimal: D\n"
     ]
    }
   ],
   "source": [
    "# Taking an integer input from the user\n",
    "number = int(input(\"Enter an integer: \"))\n",
    "\n",
    "# Convert to binary\n",
    "binary = \"\"\n",
    "n = number\n",
    "while n > 0:\n",
    "    remainder = n % 2\n",
    "    binary = str(remainder) + binary\n",
    "    n = n // 2\n",
    "\n",
    "# Convert to octal\n",
    "octal = \"\"\n",
    "n = number\n",
    "while n > 0:\n",
    "    remainder = n % 8\n",
    "    octal = str(remainder) + octal\n",
    "    n = n // 8\n",
    "\n",
    "# Convert to hexadecimal\n",
    "hexadecimal = \"\"\n",
    "n = number\n",
    "hex_digits = \"0123456789ABCDEF\"\n",
    "while n > 0:\n",
    "    remainder = n % 16\n",
    "    hexadecimal = hex_digits[remainder] + hexadecimal\n",
    "    n = n // 16\n",
    "\n",
    "# Print the results\n",
    "print(f\"Binary: {binary}\")\n",
    "print(f\"Octal: {octal}\")\n",
    "print(f\"Hexadecimal: {hexadecimal}\")"
   ]
  },
  {
   "cell_type": "code",
   "execution_count": null,
   "id": "b065f62e-fdbb-4c88-bd15-0f663a3100c0",
   "metadata": {},
   "outputs": [],
   "source": []
  }
 ],
 "metadata": {
  "kernelspec": {
   "display_name": "anaconda-2024.02-py310",
   "language": "python",
   "name": "conda-env-anaconda-2024.02-py310-py"
  },
  "language_info": {
   "codemirror_mode": {
    "name": "ipython",
    "version": 3
   },
   "file_extension": ".py",
   "mimetype": "text/x-python",
   "name": "python",
   "nbconvert_exporter": "python",
   "pygments_lexer": "ipython3",
   "version": "3.10.14"
  }
 },
 "nbformat": 4,
 "nbformat_minor": 5
}
